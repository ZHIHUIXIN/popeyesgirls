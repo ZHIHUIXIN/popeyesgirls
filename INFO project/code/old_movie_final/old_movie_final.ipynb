{
 "cells": [
  {
   "cell_type": "code",
   "execution_count": 1,
   "metadata": {},
   "outputs": [],
   "source": [
    "import pandas as pd #import pandas\n",
    "import numpy as np #import numpy\n",
    "import matplotlib.pyplot as plt #import matplotlib\n",
    "import json #import json\n",
    "import seaborn as sb #import seaborn\n",
    "from pandas.core.frame import DataFrame #import dataframe"
   ]
  },
  {
   "cell_type": "code",
   "execution_count": 2,
   "metadata": {},
   "outputs": [],
   "source": [
    "df1 = pd.read_csv('temp_1.csv') #import csv file"
   ]
  },
  {
   "cell_type": "code",
   "execution_count": 3,
   "metadata": {},
   "outputs": [
    {
     "data": {
      "text/html": [
       "<div>\n",
       "<style scoped>\n",
       "    .dataframe tbody tr th:only-of-type {\n",
       "        vertical-align: middle;\n",
       "    }\n",
       "\n",
       "    .dataframe tbody tr th {\n",
       "        vertical-align: top;\n",
       "    }\n",
       "\n",
       "    .dataframe thead th {\n",
       "        text-align: right;\n",
       "    }\n",
       "</style>\n",
       "<table border=\"1\" class=\"dataframe\">\n",
       "  <thead>\n",
       "    <tr style=\"text-align: right;\">\n",
       "      <th></th>\n",
       "      <th>old_movie_id</th>\n",
       "      <th>movie_title</th>\n",
       "      <th>director_name</th>\n",
       "      <th>main_actor</th>\n",
       "      <th>genre</th>\n",
       "      <th>genre_id</th>\n",
       "      <th>genre.1</th>\n",
       "      <th>new_movie_id</th>\n",
       "    </tr>\n",
       "  </thead>\n",
       "  <tbody>\n",
       "    <tr>\n",
       "      <th>0</th>\n",
       "      <td>1</td>\n",
       "      <td>On the Road</td>\n",
       "      <td>Walter Salles</td>\n",
       "      <td>Kristen Stewart</td>\n",
       "      <td>Adventure</td>\n",
       "      <td>3</td>\n",
       "      <td>Adventure</td>\n",
       "      <td>9</td>\n",
       "    </tr>\n",
       "    <tr>\n",
       "      <th>1</th>\n",
       "      <td>3</td>\n",
       "      <td>Enchanted</td>\n",
       "      <td>Kevin Lima</td>\n",
       "      <td>Jeff Bennett</td>\n",
       "      <td>Romance</td>\n",
       "      <td>4</td>\n",
       "      <td>Romance</td>\n",
       "      <td>13</td>\n",
       "    </tr>\n",
       "    <tr>\n",
       "      <th>2</th>\n",
       "      <td>4</td>\n",
       "      <td>Dancer, Texas Pop. 81</td>\n",
       "      <td>Tim McCanlies</td>\n",
       "      <td>Ethan Embry</td>\n",
       "      <td>Comedy</td>\n",
       "      <td>6</td>\n",
       "      <td>Comedy</td>\n",
       "      <td>12</td>\n",
       "    </tr>\n",
       "    <tr>\n",
       "      <th>3</th>\n",
       "      <td>5</td>\n",
       "      <td>TMNT</td>\n",
       "      <td>Kevin Munroe</td>\n",
       "      <td>Chris Evans</td>\n",
       "      <td>Adventure</td>\n",
       "      <td>3</td>\n",
       "      <td>Adventure</td>\n",
       "      <td>9</td>\n",
       "    </tr>\n",
       "    <tr>\n",
       "      <th>4</th>\n",
       "      <td>6</td>\n",
       "      <td>Sunshine</td>\n",
       "      <td>Danny Boyle</td>\n",
       "      <td>Chris Evans</td>\n",
       "      <td>Sci-Fi</td>\n",
       "      <td>7</td>\n",
       "      <td>Sci-Fi</td>\n",
       "      <td>18</td>\n",
       "    </tr>\n",
       "  </tbody>\n",
       "</table>\n",
       "</div>"
      ],
      "text/plain": [
       "   old_movie_id             movie_title  director_name       main_actor  \\\n",
       "0             1            On the Road   Walter Salles  Kristen Stewart   \n",
       "1             3              Enchanted      Kevin Lima     Jeff Bennett   \n",
       "2             4  Dancer, Texas Pop. 81   Tim McCanlies      Ethan Embry   \n",
       "3             5                   TMNT    Kevin Munroe      Chris Evans   \n",
       "4             6               Sunshine     Danny Boyle      Chris Evans   \n",
       "\n",
       "       genre  genre_id    genre.1  new_movie_id  \n",
       "0  Adventure         3  Adventure             9  \n",
       "1    Romance         4    Romance            13  \n",
       "2     Comedy         6     Comedy            12  \n",
       "3  Adventure         3  Adventure             9  \n",
       "4     Sci-Fi         7     Sci-Fi            18  "
      ]
     },
     "execution_count": 3,
     "metadata": {},
     "output_type": "execute_result"
    }
   ],
   "source": [
    "df1.head(5) #check first 5 rows"
   ]
  },
  {
   "cell_type": "code",
   "execution_count": 4,
   "metadata": {},
   "outputs": [],
   "source": [
    "df2=df1.drop('genre', axis=1) #drop genre column in df1"
   ]
  },
  {
   "cell_type": "code",
   "execution_count": 5,
   "metadata": {},
   "outputs": [],
   "source": [
    "df3=df2.drop('genre.1', axis=1) #drop genre.1 column in df2"
   ]
  },
  {
   "cell_type": "code",
   "execution_count": 6,
   "metadata": {},
   "outputs": [],
   "source": [
    "df4=df3.drop('new_movie_id', axis=1) #drop new_movie_id in df3"
   ]
  },
  {
   "cell_type": "code",
   "execution_count": 8,
   "metadata": {},
   "outputs": [
    {
     "data": {
      "text/html": [
       "<div>\n",
       "<style scoped>\n",
       "    .dataframe tbody tr th:only-of-type {\n",
       "        vertical-align: middle;\n",
       "    }\n",
       "\n",
       "    .dataframe tbody tr th {\n",
       "        vertical-align: top;\n",
       "    }\n",
       "\n",
       "    .dataframe thead th {\n",
       "        text-align: right;\n",
       "    }\n",
       "</style>\n",
       "<table border=\"1\" class=\"dataframe\">\n",
       "  <thead>\n",
       "    <tr style=\"text-align: right;\">\n",
       "      <th></th>\n",
       "      <th>old_movie_id</th>\n",
       "      <th>movie_title</th>\n",
       "      <th>director_name</th>\n",
       "      <th>main_actor</th>\n",
       "      <th>genre_id</th>\n",
       "    </tr>\n",
       "  </thead>\n",
       "  <tbody>\n",
       "    <tr>\n",
       "      <th>0</th>\n",
       "      <td>1</td>\n",
       "      <td>On the Road</td>\n",
       "      <td>Walter Salles</td>\n",
       "      <td>Kristen Stewart</td>\n",
       "      <td>3</td>\n",
       "    </tr>\n",
       "    <tr>\n",
       "      <th>1</th>\n",
       "      <td>3</td>\n",
       "      <td>Enchanted</td>\n",
       "      <td>Kevin Lima</td>\n",
       "      <td>Jeff Bennett</td>\n",
       "      <td>4</td>\n",
       "    </tr>\n",
       "    <tr>\n",
       "      <th>2</th>\n",
       "      <td>4</td>\n",
       "      <td>Dancer, Texas Pop. 81</td>\n",
       "      <td>Tim McCanlies</td>\n",
       "      <td>Ethan Embry</td>\n",
       "      <td>6</td>\n",
       "    </tr>\n",
       "    <tr>\n",
       "      <th>3</th>\n",
       "      <td>5</td>\n",
       "      <td>TMNT</td>\n",
       "      <td>Kevin Munroe</td>\n",
       "      <td>Chris Evans</td>\n",
       "      <td>3</td>\n",
       "    </tr>\n",
       "    <tr>\n",
       "      <th>4</th>\n",
       "      <td>6</td>\n",
       "      <td>Sunshine</td>\n",
       "      <td>Danny Boyle</td>\n",
       "      <td>Chris Evans</td>\n",
       "      <td>7</td>\n",
       "    </tr>\n",
       "  </tbody>\n",
       "</table>\n",
       "</div>"
      ],
      "text/plain": [
       "   old_movie_id             movie_title  director_name       main_actor  \\\n",
       "0             1            On the Road   Walter Salles  Kristen Stewart   \n",
       "1             3              Enchanted      Kevin Lima     Jeff Bennett   \n",
       "2             4  Dancer, Texas Pop. 81   Tim McCanlies      Ethan Embry   \n",
       "3             5                   TMNT    Kevin Munroe      Chris Evans   \n",
       "4             6               Sunshine     Danny Boyle      Chris Evans   \n",
       "\n",
       "   genre_id  \n",
       "0         3  \n",
       "1         4  \n",
       "2         6  \n",
       "3         3  \n",
       "4         7  "
      ]
     },
     "execution_count": 8,
     "metadata": {},
     "output_type": "execute_result"
    }
   ],
   "source": [
    "df4.head(5) #check first 5 rows"
   ]
  },
  {
   "cell_type": "code",
   "execution_count": 11,
   "metadata": {},
   "outputs": [],
   "source": [
    "df4.to_csv('old_movie_final.csv', sep=',',index=False) #output into csv"
   ]
  },
  {
   "cell_type": "code",
   "execution_count": null,
   "metadata": {},
   "outputs": [],
   "source": []
  }
 ],
 "metadata": {
  "kernelspec": {
   "display_name": "Python 3",
   "language": "python",
   "name": "python3"
  },
  "language_info": {
   "codemirror_mode": {
    "name": "ipython",
    "version": 3
   },
   "file_extension": ".py",
   "mimetype": "text/x-python",
   "name": "python",
   "nbconvert_exporter": "python",
   "pygments_lexer": "ipython3",
   "version": "3.7.1"
  }
 },
 "nbformat": 4,
 "nbformat_minor": 2
}
